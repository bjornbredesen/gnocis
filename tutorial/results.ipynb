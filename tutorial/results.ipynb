{
 "cells": [
  {
   "cell_type": "markdown",
   "metadata": {},
   "source": [
    "# Gnocis - Figures for manuscript\n",
    "Bjørn André Bredesen, 2020"
   ]
  },
  {
   "cell_type": "markdown",
   "metadata": {},
   "source": [
    "## Data sources\n",
    " * ModENCODE: http://www.modencode.org/\n",
    "    - Citation: https://www.nature.com/articles/459927a\n",
    " * Ensembl: ftp://ftp.ensembl.org/pub/release-100/gtf/drosophila_melanogaster/\n",
    "    - Citation: https://doi.org/10.1093/nar/gkx1098\n",
    " * FlyBase: https://flybase.org/\n",
    "    - Citation: https://academic.oup.com/nar/article/41/D1/D751/1051942\n",
    " * Kahn *et al.* 2014: https://doi.org/10.1371/journal.pgen.1004495.s010\n",
    "    - Citation: https://doi.org/10.1371/journal.pgen.1004495"
   ]
  },
  {
   "cell_type": "markdown",
   "metadata": {},
   "source": [
    "### Data preparation and preliminary analysis"
   ]
  },
  {
   "cell_type": "code",
   "execution_count": 1,
   "metadata": {},
   "outputs": [],
   "source": [
    "import gnocis as nc # Load Gnocis\n",
    "nc.setSeed(12345) # Set random seed\n",
    "nc.setNCores(12) # Enable multi-core processing"
   ]
  },
  {
   "cell_type": "code",
   "execution_count": 2,
   "metadata": {},
   "outputs": [],
   "source": [
    "Dmel = nc.genome('D. melanogaster R5')\\\n",
    "    .streamFASTAGZ('DmelR5.fasta.gz')\\\n",
    "    .loadEnsemblAnnotationGTFGZ('./ensembl_Drosophila_melanogaster.BDGP5.77.gtf.gz')"
   ]
  },
  {
   "cell_type": "code",
   "execution_count": null,
   "metadata": {},
   "outputs": [],
   "source": [
    "# We exclude PREs within 100kb of the invected gene for validation\n",
    "invectedProximal = Dmel.gene('inv').region.singleton().recenter(100000)"
   ]
  },
  {
   "cell_type": "code",
   "execution_count": null,
   "metadata": {},
   "outputs": [],
   "source": [
    "# Load Kahn et al. PREs\n",
    "Kahn2014Rgn = nc.loadGFF('Kahn2014.GFF')\n",
    "# Extract PRE sequences from genome\n",
    "Kahn2014Seq = Kahn2014Rgn.nonOverlap(invectedProximal).recenter(3000).extract(Dmel)"
   ]
  },
  {
   "cell_type": "code",
   "execution_count": null,
   "metadata": {},
   "outputs": [],
   "source": [
    "# Generate dummy PREs\n",
    "MCPRE = nc.MarkovChain(trainingSequences = Kahn2014Seq, degree = 4)\n",
    "DummyPREs = MCPRE.generateSet(n = 100 * len(Kahn2014Seq), length = len(Kahn2014Seq[0]))"
   ]
  },
  {
   "cell_type": "code",
   "execution_count": null,
   "metadata": {},
   "outputs": [],
   "source": [
    "# Generate dummy genomic\n",
    "MCGenome = nc.MarkovChain(trainingSequences = Dmel, degree = 4)\n",
    "DummyGenomic = MCGenome.generateSet(n = 100 * len(Kahn2014Seq), length = len(Kahn2014Seq[0]))"
   ]
  },
  {
   "cell_type": "code",
   "execution_count": null,
   "metadata": {},
   "outputs": [],
   "source": [
    "# Extract CDS, concatenate, and get non-overlapping 3kb fragments\n",
    "CDSSeq = Dmel.getCDS().flatten().extract(Dmel)\n",
    "CDSFragments = nc.sequence('CDS', ''.join(s.seq for s in CDSSeq)).windows(3000, 3000)"
   ]
  },
  {
   "cell_type": "code",
   "execution_count": null,
   "metadata": {},
   "outputs": [],
   "source": [
    "# Load PcG biomarkers\n",
    "PcG = nc.biomarkers('PcG', [\n",
    "    nc.loadGFFGZ('Pc.gff3.gz').deltaResize(1000),\n",
    "    nc.loadGFFGZ('Psc.gff3.gz').deltaResize(1000),\n",
    "    nc.loadGFFGZ('dRING.gff3.gz').deltaResize(1000),\n",
    "    nc.loadGFFGZ('H3K27me3.gff3.gz'),\n",
    "])"
   ]
  },
  {
   "cell_type": "code",
   "execution_count": null,
   "metadata": {},
   "outputs": [],
   "source": [
    "gwWin = Dmel.windowRegions(size = 1000, step = 100)"
   ]
  },
  {
   "cell_type": "code",
   "execution_count": null,
   "metadata": {},
   "outputs": [],
   "source": [
    "# Extract highly biomarker-enriched (HBME) regions\n",
    "HBMERgn = PcG.HBMEs(gwWin, threshold = 3)"
   ]
  },
  {
   "cell_type": "code",
   "execution_count": null,
   "metadata": {},
   "outputs": [],
   "source": [
    "# Extract lowly biomarker-enriched (LBME) regions\n",
    "LBMERgn = PcG.LBMEs(gwWin, threshold = 1).filter('', lambda r: len(r) >= 3000)\n",
    "LBMESeq = LBMERgn.extract(Dmel).windows(3000, 3000)"
   ]
  },
  {
   "cell_type": "code",
   "execution_count": null,
   "metadata": {},
   "outputs": [],
   "source": [
    "LBMESeq.printStatistics()"
   ]
  },
  {
   "cell_type": "code",
   "execution_count": null,
   "metadata": {},
   "outputs": [],
   "source": [
    "LBMERgn.overlap(Kahn2014Rgn)"
   ]
  },
  {
   "cell_type": "code",
   "execution_count": null,
   "metadata": {},
   "outputs": [],
   "source": [
    "Kahn2014Rgn"
   ]
  },
  {
   "cell_type": "code",
   "execution_count": null,
   "metadata": {},
   "outputs": [],
   "source": [
    "motifs = nc.motifs('Ringrose et al. 2003 + GTGT', [\n",
    "    nc.IUPACMotif('En', 'GSNMACGCCCC', 1),\n",
    "    nc.IUPACMotif('G10', 'GAGAGAGAGA', 1),\n",
    "    nc.IUPACMotif('GAF', 'GAGAG', 0),\n",
    "    nc.IUPACMotif('PF', 'GCCATHWY', 0),\n",
    "    nc.IUPACMotif('PM', 'CNGCCATNDNND', 0),\n",
    "    nc.IUPACMotif('PS', 'GCCAT', 0),\n",
    "    nc.IUPACMotif('Z', 'YGAGYG', 0),\n",
    "    nc.IUPACMotif('GTGT', 'GTGT', 0)\n",
    "])"
   ]
  },
  {
   "cell_type": "code",
   "execution_count": null,
   "metadata": {},
   "outputs": [],
   "source": [
    "# Construct a distance-thresholded motif pair feature set, and\n",
    "# output enrichment statistics\n",
    "motifs.pairFreq(220) \\\n",
    "    .diffsummary(Kahn2014Seq, DummyPREs) \\\n",
    "    .sort('KLD(A||B)', ascending = False)"
   ]
  },
  {
   "cell_type": "code",
   "execution_count": null,
   "metadata": {},
   "outputs": [],
   "source": [
    "# Construct a distance-thresholded motif pair feature set, and\n",
    "# output enrichment statistics\n",
    "motifs.pairFreq(220) \\\n",
    "    .summary(Kahn2014Seq) \\\n",
    "    .sort('Mean', ascending = False)"
   ]
  },
  {
   "cell_type": "code",
   "execution_count": null,
   "metadata": {},
   "outputs": [],
   "source": [
    "# Construct a distance-thresholded motif pair feature set, and\n",
    "# output enrichment statistics\n",
    "motifs.pairFreq(220).filter([ 0, 1, 2, 3 ]) \\\n",
    "    .summary(Kahn2014Seq) \\\n",
    "    .sort('Mean', ascending = False)"
   ]
  },
  {
   "cell_type": "markdown",
   "metadata": {},
   "source": [
    "### Cross-validation"
   ]
  },
  {
   "cell_type": "code",
   "execution_count": null,
   "metadata": {},
   "outputs": [],
   "source": [
    "# We want to use three classes of negatives for training, so we add labels for these\n",
    "labelDummyGenomic = nc.sequenceLabel('Dummy genomic', -1)\n",
    "labelDummyPRE = nc.sequenceLabel('Dummy PRE', -2)\n",
    "labelCDS = nc.sequenceLabel('CDS', -3)\n",
    "# We use these labels to construct our training set, to enable multiclass learning\n",
    "trainingSet = Kahn2014Seq.label(nc.positive)\\\n",
    "    + DummyGenomic.label(labelDummyGenomic)\\\n",
    "    + DummyPREs.label(labelDummyPRE)\\\n",
    "    + CDSFragments.label(labelCDS)"
   ]
  },
  {
   "cell_type": "code",
   "execution_count": null,
   "metadata": {},
   "outputs": [],
   "source": [
    "# PyPREdictor\n",
    "motifs = nc.motifs('Ringrose et al. 2003 + GTGT', [\n",
    "    nc.IUPACMotif('En', 'GSNMACGCCCC', 1),\n",
    "    nc.IUPACMotif('G10', 'GAGAGAGAGA', 1),\n",
    "    nc.IUPACMotif('GAF', 'GAGAG', 0),\n",
    "    nc.IUPACMotif('PF', 'GCCATHWY', 0),\n",
    "    nc.IUPACMotif('PM', 'CNGCCATNDNND', 0),\n",
    "    nc.IUPACMotif('PS', 'GCCAT', 0),\n",
    "    nc.IUPACMotif('Z', 'YGAGYG', 0),\n",
    "    nc.IUPACMotif('GTGT', 'GTGT', 0)\n",
    "])\n",
    "PyPREdictor = motifs\\\n",
    "        .pairFreq(distCut = 219)\\\n",
    "        .model(nc.logOdds(labelPositive = nc.positive, labelNegative = labelDummyPRE))\\\n",
    "        .sequenceModel(name = 'PyPREdictor (M2003+GTGT)',\n",
    "                       windowSize = 500, windowStep = 250)\n",
    "\n",
    "# Quadratic 5-spectrum kernel SVM\n",
    "import gnocis.sklearnCUDAModels as sklcunc\n",
    "spectrumSVM = nc.kSpectrum(5)\\\n",
    "      .window(size = 500, step = 250)\\\n",
    "      .scale()\\\n",
    "      .model(sklcunc.CUDASVM(kDegree = 2, C = 1, labelPositive = nc.positive, labelNegative = labelDummyPRE))\\\n",
    "      .sequenceModel(name = 'SVM (quadratic, 5-spectrum)')\n",
    "\n",
    "# Quadratic 5-spectrum mismatch kernel SVM\n",
    "mismatchSVM = nc.kSpectrumMM(5)\\\n",
    "      .window(size = 500, step = 250)\\\n",
    "      .scale()\\\n",
    "      .model(sklcunc.CUDASVM(kDegree = 2, C = 1, labelPositive = nc.positive, labelNegative = labelDummyPRE))\\\n",
    "      .sequenceModel(name = 'SVM (quadratic, 5-spectrum mismatch)')\n",
    "\n",
    "# CNN\n",
    "import gnocis.tfModels as tfnc\n",
    "tfnc.setSeed(12345)\n",
    "CNN = tfnc.sequenceModelMultiCNN(\n",
    "            name = 'Convolutional Neural Network',\n",
    "            windowSize = 500, windowStep = 250,\n",
    "            nConv = 15, convLen = 10,\n",
    "            epochs = 250,\n",
    "            targetLabel = nc.positive,\n",
    "            labels = [ nc.positive, labelDummyPRE, labelDummyGenomic, labelCDS ] )"
   ]
  },
  {
   "cell_type": "code",
   "execution_count": null,
   "metadata": {},
   "outputs": [],
   "source": [
    "# Optional: SVM-MOCCA - requires separate installation\n",
    "from gnocis.MOCCAModels import sequenceModelSVMMOCCA\n",
    "SVMMOCCA = sequenceModelSVMMOCCA('SVM-MOCCA', MOCCAPath = 'INSERT_MOCCA_PATH_HERE',\n",
    "    motifs = motifs, windowSize = 3000, windowStep = 1000, kDegree = 2,\n",
    "    labelsPositive = [ nc.positive ], labelsNegative = [ labelDummyGenomic, labelDummyPRE, labelCDS ])"
   ]
  },
  {
   "cell_type": "markdown",
   "metadata": {},
   "source": [
    "#### PREs versus dummy-PREs"
   ]
  },
  {
   "cell_type": "code",
   "execution_count": null,
   "metadata": {
    "scrolled": true
   },
   "outputs": [],
   "source": [
    "# Cross-validate: PREs versus dummy-PREs\n",
    "cvPREvsDummyPRE = nc.crossvalidate([\n",
    "        PyPREdictor,\n",
    "        spectrumSVM,\n",
    "        mismatchSVM,\n",
    "        CNN,\n",
    "        SVMMOCCA\n",
    "    ],\n",
    "    trainingSet = trainingSet,\n",
    "    validationSet = Kahn2014Seq.label(nc.positive) + DummyPREs.label(nc.negative),\n",
    "    ratioTrainTest = 0.6875, # This ratio is chosen in order to give the same ratio as in Bredesen et al. 2019,\n",
    "                             # for generalization comparable with Figure 1C\n",
    "    ratioNegPos = 100.)\n",
    "cvPREvsDummyPRE"
   ]
  },
  {
   "cell_type": "code",
   "execution_count": null,
   "metadata": {},
   "outputs": [],
   "source": [
    "cvPREvsDummyPRE.plotPRC(outpath = './fig3APRCPREsVsDummyPREs.pdf')"
   ]
  },
  {
   "cell_type": "markdown",
   "metadata": {},
   "source": [
    "#### PREs versus coding sequences"
   ]
  },
  {
   "cell_type": "code",
   "execution_count": null,
   "metadata": {},
   "outputs": [],
   "source": [
    "# Cross-validate\n",
    "valSet = Kahn2014Seq.label(nc.positive) + CDSFragments.label(nc.negative)\n",
    "cvPREvsCDS = nc.crossvalidate(cvPREvsDummyPRE.models,\n",
    "    trainingSet = trainingSet,\n",
    "    validationSet = valSet,\n",
    "    ratioTrainTest = 0.6875) # This ratio is chosen in order to give the same ratio as in Bredesen et al. 2019,\n",
    "                             # for generalization comparable with Figure 1C\n",
    "cvPREvsCDS"
   ]
  },
  {
   "cell_type": "code",
   "execution_count": null,
   "metadata": {},
   "outputs": [],
   "source": [
    "cvPREvsCDS.plotPRC(outpath = './fig3BPRCPREsVsCDS.pdf')"
   ]
  },
  {
   "cell_type": "markdown",
   "metadata": {},
   "source": [
    "#### PREs versus dummy genomic"
   ]
  },
  {
   "cell_type": "code",
   "execution_count": null,
   "metadata": {},
   "outputs": [],
   "source": [
    "# Optional\n",
    "# Cross-validate\n",
    "valSet = Kahn2014Seq.label(nc.positive) + DummyGenomic.label(nc.negative)\n",
    "cvPREvsDummyGenomic = nc.crossvalidate(cvPREvsDummyPRE.models,\n",
    "    trainingSet = trainingSet,\n",
    "    validationSet = valSet,\n",
    "    ratioTrainTest = 0.6875) # This ratio is chosen in order to give the same ratio as in Bredesen et al. 2019,\n",
    "                             # for generalization comparable with Figure 1C\n",
    "cvPREvsDummyGenomic"
   ]
  },
  {
   "cell_type": "code",
   "execution_count": null,
   "metadata": {},
   "outputs": [],
   "source": [
    "cvPREvsDummyGenomic.plotPRC(outpath = './figExtraPRCPREsVsDummyGenomic.pdf')"
   ]
  },
  {
   "cell_type": "markdown",
   "metadata": {},
   "source": [
    "### SVM runtime benchmarks"
   ]
  },
  {
   "cell_type": "code",
   "execution_count": null,
   "metadata": {},
   "outputs": [],
   "source": [
    "import gnocis.sklearnModels as sklnc\n",
    "import time\n",
    "import datetime\n",
    "\n",
    "mismatchSVM_SingleCPU = nc.kSpectrumMM(5)\\\n",
    "      .window(size = 500, step = 250)\\\n",
    "      .scale()\\\n",
    "      .model(sklnc.SVM(kDegree = 2, C = 1, labelPositive = nc.positive, labelNegative = labelDummyPRE))\\\n",
    "      .sequenceModel(name = 'Single')\n",
    "mismatchSVM_SingleCPU = mismatchSVM_SingleCPU.getTrainer()(cvPREvsDummyGenomic.cvtrain[0])\n",
    "mismatchSVM_SingleCPU.enableMultiprocessing = False\n",
    "\n",
    "mismatchSVM_MultiCPU = nc.kSpectrumMM(5)\\\n",
    "      .window(size = 500, step = 250)\\\n",
    "      .scale()\\\n",
    "      .model(sklnc.SVM(kDegree = 2, C = 1, labelPositive = nc.positive, labelNegative = labelDummyPRE))\\\n",
    "      .sequenceModel(name = 'Multiprocessing')\n",
    "mismatchSVM_MultiCPU = mismatchSVM_MultiCPU.getTrainer()(cvPREvsDummyGenomic.cvtrain[0])\n",
    "\n",
    "mismatchSVM_CUDA = nc.kSpectrumMM(5)\\\n",
    "      .window(size = 500, step = 250)\\\n",
    "      .scale()\\\n",
    "      .model(sklcunc.CUDASVM(kDegree = 2, C = 1, labelPositive = nc.positive, labelNegative = labelDummyPRE))\\\n",
    "      .sequenceModel(name = 'CUDA')\n",
    "mismatchSVM_CUDA = mismatchSVM_CUDA.getTrainer()(cvPREvsDummyGenomic.cvtrain[0])\n",
    "\n",
    "def timerun(func):\n",
    "    t0 = time.time()\n",
    "    func()\n",
    "    return str(datetime.timedelta(seconds = time.time() - t0))\n",
    "\n",
    "nc.nctable('Running times', [\n",
    "    {\n",
    "        'Name': model.name,\n",
    "        'Time': str(timerun( lambda: model.getSequenceScores(DummyGenomic) ))\n",
    "    }\n",
    "    for model in [\n",
    "        mismatchSVM_SingleCPU,\n",
    "        mismatchSVM_MultiCPU,\n",
    "        mismatchSVM_CUDA,\n",
    "    ]\n",
    "])"
   ]
  },
  {
   "cell_type": "code",
   "execution_count": null,
   "metadata": {},
   "outputs": [],
   "source": [
    "len(DummyGenomic)"
   ]
  },
  {
   "cell_type": "markdown",
   "metadata": {},
   "source": [
    "### Genome-wide prediction"
   ]
  },
  {
   "cell_type": "code",
   "execution_count": null,
   "metadata": {},
   "outputs": [],
   "source": [
    "rep = 0\n",
    "trainedModels = [\n",
    "    mdl.getTrainer()(cvPREvsDummyPRE.cvtrain[rep])\n",
    "    for mdl in cvPREvsDummyPRE.models\n",
    "    if mdl.name != 'SVM-MOCCA' # Exclude SVM-MOCCA, for which we use core-PRE prediction\n",
    "]"
   ]
  },
  {
   "cell_type": "code",
   "execution_count": null,
   "metadata": {},
   "outputs": [],
   "source": [
    "vpos = cvPREvsDummyPRE.cvval[rep].withLabel(nc.positive)\n",
    "for mdl in trainedModels:\n",
    "    print('Calibrating model: %s'%mdl.name)\n",
    "    mdl.calibrateGenomewidePrecision(positives = vpos,\n",
    "                                    genome = Dmel,\n",
    "                                    factor = 1. - 0.6875,\n",
    "                                    precision = 0.8,\n",
    "                                    bgModelOrder = 4)"
   ]
  },
  {
   "cell_type": "code",
   "execution_count": null,
   "metadata": {},
   "outputs": [],
   "source": [
    "modelPredictions = []\n",
    "\n",
    "for mdl in trainedModels:\n",
    "    print('Predicting with model: %s'%mdl.name)\n",
    "    modelPredictions.append( mdl.predict(Dmel.sequences) )"
   ]
  },
  {
   "cell_type": "code",
   "execution_count": null,
   "metadata": {},
   "outputs": [],
   "source": [
    "# Optional: Add core-PRE predictions made by SVM-MOCCA\n",
    "SVMMOCCA = cvPREvsDummyPRE.models[-1].getTrainer()(cvPREvsDummyPRE.cvtrain[rep])\n",
    "modelPredictions += [\n",
    "    SVMMOCCA.predictCore(\n",
    "        vpos = vpos,\n",
    "        genome = Dmel,\n",
    "        factor = 1. - 0.6875,\n",
    "        precision = 0.8,\n",
    "        bgModelOrder = 4\n",
    "    )\n",
    "]"
   ]
  },
  {
   "cell_type": "code",
   "execution_count": null,
   "metadata": {},
   "outputs": [],
   "source": [
    "modelPredictions += [\n",
    "    nc.loadGFF(SVMMOCCA.tmpPath + 'pred.gff')\n",
    "]"
   ]
  },
  {
   "cell_type": "code",
   "execution_count": null,
   "metadata": {},
   "outputs": [],
   "source": [
    "nc.overlapSensitivityBarplot(regionSets = [\n",
    "        HBMERgn.rename('HBME'),\n",
    "        Kahn2014Rgn.rename('Kahn 2014'),\n",
    "    ], predictionSets = [\n",
    "        pred.regions().rename(mdl.name)\n",
    "        if mdl.name != 'SVM-MOCCA' else pred.rename(mdl.name)\n",
    "        for mdl, pred in zip(cvPREvsDummyPRE.models, modelPredictions)\n",
    "    ])"
   ]
  },
  {
   "cell_type": "code",
   "execution_count": null,
   "metadata": {},
   "outputs": [],
   "source": [
    "nc.overlapSensitivityBarplot(regionSets = [\n",
    "        HBMERgn.rename('HBME'),\n",
    "        Kahn2014Rgn.rename('Kahn 2014'),\n",
    "    ], predictionSets = [\n",
    "        pred.regions().rename(mdl.name)\n",
    "        if mdl.name != 'SVM-MOCCA' else pred.rename(mdl.name)\n",
    "        for mdl, pred in zip(cvPREvsDummyPRE.models, modelPredictions)\n",
    "    ],\n",
    "    outpath = \"fig4AOverlapSensitivity.pdf\")"
   ]
  },
  {
   "cell_type": "code",
   "execution_count": null,
   "metadata": {},
   "outputs": [],
   "source": [
    "nc.nucleotidePrecisionBarplot(regionSets = [\n",
    "        HBMERgn.deltaResize(1000).flatten().rename('HBME'),\n",
    "        Kahn2014Rgn.deltaResize(1000).flatten().rename('Kahn 2014'),\n",
    "    ], predictionSets = [\n",
    "        pred.regions().rename(mdl.name)\n",
    "        if mdl.name != 'SVM-MOCCA' else pred.rename(mdl.name)\n",
    "        for mdl, pred in zip(cvPREvsDummyPRE.models, modelPredictions)\n",
    "    ])"
   ]
  },
  {
   "cell_type": "code",
   "execution_count": null,
   "metadata": {},
   "outputs": [],
   "source": [
    "nc.nucleotidePrecisionBarplot(regionSets = [\n",
    "        HBMERgn.deltaResize(1000).flatten().rename('HBME'),\n",
    "        Kahn2014Rgn.deltaResize(1000).flatten().rename('Kahn 2014'),\n",
    "    ], predictionSets = [\n",
    "        pred.regions().rename(mdl.name)\n",
    "        if mdl.name != 'SVM-MOCCA' else pred.rename(mdl.name)\n",
    "        for mdl, pred in zip(cvPREvsDummyPRE.models, modelPredictions)\n",
    "    ],\n",
    "    outpath = \"fig4BNucleotidePrecision.pdf\")"
   ]
  },
  {
   "cell_type": "code",
   "execution_count": null,
   "metadata": {},
   "outputs": [],
   "source": [
    "nc.overlapPrecisionBarplot(regionSets = [\n",
    "        HBMERgn.rename('HBME'),\n",
    "        Kahn2014Rgn.rename('Kahn 2014'),\n",
    "    ], predictionSets = [\n",
    "        pred.regions().rename(mdl.name)\n",
    "        if mdl.name != 'SVM-MOCCA' else pred.rename(mdl.name)\n",
    "        for mdl, pred in zip(cvPREvsDummyPRE.models, modelPredictions)\n",
    "    ])"
   ]
  },
  {
   "cell_type": "code",
   "execution_count": null,
   "metadata": {},
   "outputs": [],
   "source": [
    "nc.overlapPrecisionBarplot(regionSets = [\n",
    "        HBMERgn.rename('HBME'),\n",
    "        Kahn2014Rgn.rename('Kahn 2014'),\n",
    "    ], predictionSets = [\n",
    "        pred.regions().rename(mdl.name)\n",
    "        if mdl.name != 'SVM-MOCCA' else pred.rename(mdl.name)\n",
    "        for mdl, pred in zip(cvPREvsDummyPRE.models, modelPredictions)\n",
    "    ],\n",
    "    outpath = \"figExtraOverlapPrecision.pdf\")"
   ]
  },
  {
   "cell_type": "code",
   "execution_count": null,
   "metadata": {},
   "outputs": [],
   "source": [
    "nc.plotGenomeTracks(\n",
    "    [\n",
    "        Dmel,\n",
    "        HBMERgn.rename('HBME'),\n",
    "        Kahn2014Rgn.rename('Kahn 2014'),\n",
    "    ] + [\n",
    "        pred.rename(mdl.name)\n",
    "        for mdl, pred in zip(cvPREvsDummyPRE.models, modelPredictions)\n",
    "    ],\n",
    "    invectedProximal[0].seq,\n",
    "    invectedProximal[0].start,\n",
    "    invectedProximal[0].end)"
   ]
  },
  {
   "cell_type": "code",
   "execution_count": null,
   "metadata": {},
   "outputs": [],
   "source": [
    "nc.plotGenomeTracks(\n",
    "    [\n",
    "        Dmel,\n",
    "        HBMERgn.rename('HBME'),\n",
    "        Kahn2014Rgn.rename('Kahn 2014'),\n",
    "    ] + [\n",
    "        pred.rename(mdl.name)\n",
    "        for mdl, pred in zip(trainedModels, modelPredictions)\n",
    "    ],\n",
    "    invectedProximal[0].seq,\n",
    "    invectedProximal[0].start,\n",
    "    invectedProximal[0].end,\n",
    "    outpath = \"fig5InvectedLocus.pdf\")"
   ]
  },
  {
   "cell_type": "code",
   "execution_count": null,
   "metadata": {},
   "outputs": [],
   "source": []
  },
  {
   "cell_type": "code",
   "execution_count": null,
   "metadata": {},
   "outputs": [],
   "source": []
  }
 ],
 "metadata": {
  "kernelspec": {
   "display_name": "Python 3",
   "language": "python",
   "name": "python3"
  },
  "language_info": {
   "codemirror_mode": {
    "name": "ipython",
    "version": 3
   },
   "file_extension": ".py",
   "mimetype": "text/x-python",
   "name": "python",
   "nbconvert_exporter": "python",
   "pygments_lexer": "ipython3",
   "version": "3.6.9"
  }
 },
 "nbformat": 4,
 "nbformat_minor": 2
}
